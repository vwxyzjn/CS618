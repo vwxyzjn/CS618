{
 "cells": [
  {
   "cell_type": "markdown",
   "metadata": {},
   "source": [
    "# Rent Division\n",
    "\n",
    "In the paper [Which Is the Fairest (Rent Division) of Them All?\n",
    "](http://procaccia.info/papers/rent.pdf), it was suggested that the popular envy-free model is insufficient. Below we presnet an initial implmentation of the envy-free model."
   ]
  },
  {
   "cell_type": "markdown",
   "metadata": {},
   "source": [
    "## Outline of the algorithm\n",
    "\n",
    "1. Use linear programming to find a welfare-maximizing allocation $x$.\n",
    "2. Use linear programming to find a price assignment $p$ that maximizes the minimum utility of each agent."
   ]
  },
  {
   "cell_type": "markdown",
   "metadata": {},
   "source": [
    "## 1. Use linear programming to find a welfare-maximizing allocation $x$.\n",
    "\n",
    "Here is the following variables:\n",
    "\n",
    "* Let $x_{ij}$ be the binary variable that suggests assignment of agent $i$ for room $j$\n",
    "\n",
    "Above are the varaibles we want to know at the end of model optimization. Furthermore, we have **constants** $v_{ij}$ that stands for the private evaluation of room $j$ for agent $i$."
   ]
  },
  {
   "cell_type": "code",
   "execution_count": 40,
   "metadata": {},
   "outputs": [
    {
     "name": "stdout",
     "output_type": "stream",
     "text": [
      "{'[0, 0]': <gurobi.Var [0, 0]>, '[0, 1]': <gurobi.Var [0, 1]>, '[0, 2]': <gurobi.Var [0, 2]>, '[1, 0]': <gurobi.Var [1, 0]>, '[1, 1]': <gurobi.Var [1, 1]>, '[1, 2]': <gurobi.Var [1, 2]>, '[2, 0]': <gurobi.Var [2, 0]>, '[2, 1]': <gurobi.Var [2, 1]>, '[2, 2]': <gurobi.Var [2, 2]>}\n"
     ]
    }
   ],
   "source": [
    "from gurobipy import Model, GRB, quicksum\n",
    "import numpy as np\n",
    "\n",
    "# create a LP model\n",
    "model = Model()\n",
    "\n",
    "# input parameters\n",
    "v = np.array([\n",
    "    [3, 0, 0],\n",
    "    [0, 3, 0],\n",
    "    [0, 0, 3]    \n",
    "])\n",
    "rent = v[0].sum()\n",
    "\n",
    "# variables\n",
    "n = range(3)\n",
    "x = {}\n",
    "for i in n:\n",
    "    for j in n:\n",
    "        x[str([i, j])] = model.addVar(\n",
    "            vtype=GRB.BINARY, \n",
    "            name=str([i, j])\n",
    "        )\n",
    "\n",
    "model.update()\n",
    "\n",
    "print(x)"
   ]
  },
  {
   "cell_type": "markdown",
   "metadata": {},
   "source": [
    "### Objective\n",
    "\n",
    "We want to maximize the social welfare\n",
    "\n",
    "$$ \\max \\sum x_{ij} v_{ij}$$\n"
   ]
  },
  {
   "cell_type": "code",
   "execution_count": 41,
   "metadata": {},
   "outputs": [],
   "source": [
    "welfare = []\n",
    "for i in n:\n",
    "    for j in n:\n",
    "        welfare += [x[str([i, j])] * v[i,j]]\n",
    "model.setObjective(\n",
    "    quicksum(welfare),\n",
    "    GRB.MAXIMIZE\n",
    ")"
   ]
  },
  {
   "cell_type": "markdown",
   "metadata": {},
   "source": [
    "### Constraints\n",
    "\n",
    "* $\\sum x_{ij} = 1, \\forall i$ (Each agent can be assigned exactly one room)\n",
    "* $\\sum x_{ij} = 1, \\forall j$ (Each room can only be assigned once)"
   ]
  },
  {
   "cell_type": "code",
   "execution_count": 42,
   "metadata": {
    "scrolled": true
   },
   "outputs": [
    {
     "name": "stdout",
     "output_type": "stream",
     "text": [
      "Optimize a model with 6 rows, 9 columns and 18 nonzeros\n",
      "Variable types: 0 continuous, 9 integer (9 binary)\n",
      "Coefficient statistics:\n",
      "  Matrix range     [1e+00, 1e+00]\n",
      "  Objective range  [3e+00, 3e+00]\n",
      "  Bounds range     [1e+00, 1e+00]\n",
      "  RHS range        [1e+00, 1e+00]\n",
      "Presolve time: 0.00s\n",
      "Presolved: 6 rows, 9 columns, 18 nonzeros\n",
      "Variable types: 0 continuous, 9 integer (9 binary)\n",
      "Found heuristic solution: objective 9.0000000\n",
      "\n",
      "Explored 0 nodes (0 simplex iterations) in 0.01 seconds\n",
      "Thread count was 8 (of 8 available processors)\n",
      "\n",
      "Solution count 1: 9 \n",
      "\n",
      "Optimal solution found (tolerance 1.00e-04)\n",
      "Best objective 9.000000000000e+00, best bound 9.000000000000e+00, gap 0.0000%\n",
      "\n",
      "*****Thus the objective value is 9.0\n"
     ]
    }
   ],
   "source": [
    "for i in n:\n",
    "    # c1: each agent must be assigned exactly one room\n",
    "    model.addConstr(\n",
    "        quicksum(x[str([i, j])] for j in n) == 1\n",
    "    )\n",
    "for j in n:\n",
    "    # c2: each room can only be assigned once\n",
    "    model.addConstr(\n",
    "        quicksum(x[str([i, j])] for i in n) == 1\n",
    "    )\n",
    "model.update()\n",
    "model.optimize()\n",
    "print()\n",
    "print(\"*****Thus the objective value is \" + str(model.ObjVal))"
   ]
  },
  {
   "cell_type": "markdown",
   "metadata": {},
   "source": [
    "## Extracting the allocation\n",
    "\n",
    "The following is the allocation:"
   ]
  },
  {
   "cell_type": "code",
   "execution_count": 43,
   "metadata": {},
   "outputs": [
    {
     "data": {
      "text/plain": [
       "{'[0, 0]': <gurobi.Var [0, 0] (value 1.0)>,\n",
       " '[0, 1]': <gurobi.Var [0, 1] (value -0.0)>,\n",
       " '[0, 2]': <gurobi.Var [0, 2] (value -0.0)>,\n",
       " '[1, 0]': <gurobi.Var [1, 0] (value -0.0)>,\n",
       " '[1, 1]': <gurobi.Var [1, 1] (value 1.0)>,\n",
       " '[1, 2]': <gurobi.Var [1, 2] (value -0.0)>,\n",
       " '[2, 0]': <gurobi.Var [2, 0] (value -0.0)>,\n",
       " '[2, 1]': <gurobi.Var [2, 1] (value -0.0)>,\n",
       " '[2, 2]': <gurobi.Var [2, 2] (value 1.0)>}"
      ]
     },
     "execution_count": 43,
     "metadata": {},
     "output_type": "execute_result"
    }
   ],
   "source": [
    "x"
   ]
  },
  {
   "cell_type": "markdown",
   "metadata": {},
   "source": [
    "Let constants $\\sigma_i = j$ stands for the room allocation of agent $i$ is $j$."
   ]
  },
  {
   "cell_type": "code",
   "execution_count": 44,
   "metadata": {},
   "outputs": [
    {
     "data": {
      "text/plain": [
       "{0: 0, 1: 1, 2: 2}"
      ]
     },
     "execution_count": 44,
     "metadata": {},
     "output_type": "execute_result"
    }
   ],
   "source": [
    "sigma = {}\n",
    "for i in n:\n",
    "    for j in n:\n",
    "        if x[str([i, j])].X != 0:\n",
    "            sigma[i] = j\n",
    "sigma"
   ]
  },
  {
   "cell_type": "markdown",
   "metadata": {},
   "source": [
    "### (Digression) Let's just find one envy-free solution that doesn't maximize the minimum of agents' utility\n",
    "\n",
    "Here is the following variables:\n",
    "\n",
    "* Let $p_{ij}$ be the continuous variable that suggests payment of agent $i$ for room $j$"
   ]
  },
  {
   "cell_type": "code",
   "execution_count": 45,
   "metadata": {},
   "outputs": [
    {
     "name": "stdout",
     "output_type": "stream",
     "text": [
      "{'[0, 0]': <gurobi.Var [0, 0]>, '[0, 1]': <gurobi.Var [0, 1]>, '[0, 2]': <gurobi.Var [0, 2]>, '[1, 0]': <gurobi.Var [1, 0]>, '[1, 1]': <gurobi.Var [1, 1]>, '[1, 2]': <gurobi.Var [1, 2]>, '[2, 0]': <gurobi.Var [2, 0]>, '[2, 1]': <gurobi.Var [2, 1]>, '[2, 2]': <gurobi.Var [2, 2]>}\n"
     ]
    }
   ],
   "source": [
    "# variables\n",
    "model = Model()\n",
    "p = {}\n",
    "for i in n:\n",
    "    for j in n:\n",
    "        p[str([i, j])] = model.addVar(\n",
    "            vtype=GRB.CONTINUOUS, \n",
    "            name=str([i, j])\n",
    "        )\n",
    "\n",
    "model.update()\n",
    "\n",
    "print(p)"
   ]
  },
  {
   "cell_type": "markdown",
   "metadata": {},
   "source": [
    "### Objective\n",
    "\n",
    "We create a dummy objective to get a feasible solution\n",
    "\n",
    "$$\\max \\sum p_{ij}$$"
   ]
  },
  {
   "cell_type": "code",
   "execution_count": 46,
   "metadata": {},
   "outputs": [],
   "source": [
    "dummy_objective = [p[str([i, j])] for i in n for j in n]\n",
    "model.setObjective(\n",
    "    quicksum(dummy_objective),\n",
    "    GRB.MAXIMIZE\n",
    ")"
   ]
  },
  {
   "cell_type": "markdown",
   "metadata": {},
   "source": [
    "### Constraints\n",
    "\n",
    "* $\\sum p_{ij} = rent, \\forall i,j$ (Agent's payments sum up to rent)\n",
    "* $p_{ij} \\geq 0, \\forall i,j$ (Non-negative payments)\n",
    "* $v_{i\\sigma_i} - p_{i\\sigma_i} \\geq v_{ij} - p_{ij}, i \\in N, j \\in N$ (Agent's utility for the selected room is at least as high as the utility for any other room)"
   ]
  },
  {
   "cell_type": "code",
   "execution_count": 47,
   "metadata": {
    "scrolled": true
   },
   "outputs": [
    {
     "name": "stdout",
     "output_type": "stream",
     "text": [
      "Optimize a model with 19 rows, 9 columns and 30 nonzeros\n",
      "Coefficient statistics:\n",
      "  Matrix range     [1e+00, 1e+00]\n",
      "  Objective range  [1e+00, 1e+00]\n",
      "  Bounds range     [0e+00, 0e+00]\n",
      "  RHS range        [3e+00, 3e+00]\n",
      "Presolve removed 12 rows and 0 columns\n",
      "Presolve time: 0.01s\n",
      "Presolved: 7 rows, 9 columns, 21 nonzeros\n",
      "\n",
      "Iteration    Objective       Primal Inf.    Dual Inf.      Time\n",
      "       0    3.0000000e+00   4.206800e+01   0.000000e+00      0s\n",
      "       7    3.0000000e+00   0.000000e+00   0.000000e+00      0s\n",
      "\n",
      "Solved in 7 iterations and 0.01 seconds\n",
      "Optimal objective  3.000000000e+00\n",
      "\n",
      "*****Thus the objective value is 3.0\n"
     ]
    }
   ],
   "source": [
    "c = {}\n",
    "# c1: payment must add up to rent\n",
    "model.addConstr(\n",
    "    quicksum(p[str([i, j])] for i in n for j in n) == rent\n",
    ")\n",
    "for i in n:\n",
    "    for j in n:\n",
    "        # c2: all payments are nonnegative\n",
    "        model.addConstr(\n",
    "            p[str([i, j])] >= 0\n",
    "        )\n",
    "        # c3: non-envy\n",
    "        model.addConstr(\n",
    "            (v[i,sigma[i]] - p[str([i, sigma[i]])]) >= (v[i,j] - p[str([i, j])])\n",
    "        )\n",
    "\n",
    "model.update()\n",
    "model.optimize()\n",
    "print()\n",
    "print(\"*****Thus the objective value is \" + str(model.ObjVal))"
   ]
  },
  {
   "cell_type": "code",
   "execution_count": 48,
   "metadata": {
    "scrolled": false
   },
   "outputs": [
    {
     "data": {
      "text/plain": [
       "{'[0, 0]': <gurobi.Var [0, 0] (value 0.0)>,\n",
       " '[0, 1]': <gurobi.Var [0, 1] (value 0.0)>,\n",
       " '[0, 2]': <gurobi.Var [0, 2] (value 0.0)>,\n",
       " '[1, 0]': <gurobi.Var [1, 0] (value 0.0)>,\n",
       " '[1, 1]': <gurobi.Var [1, 1] (value 0.0)>,\n",
       " '[1, 2]': <gurobi.Var [1, 2] (value 0.0)>,\n",
       " '[2, 0]': <gurobi.Var [2, 0] (value 0.0)>,\n",
       " '[2, 1]': <gurobi.Var [2, 1] (value 0.0)>,\n",
       " '[2, 2]': <gurobi.Var [2, 2] (value 3.0)>}"
      ]
     },
     "execution_count": 48,
     "metadata": {},
     "output_type": "execute_result"
    }
   ],
   "source": [
    "p"
   ]
  },
  {
   "cell_type": "markdown",
   "metadata": {},
   "source": [
    "### 2. Use linear programming to find a price assignment $p$ that maximizes the minimum utility of each agent.\n",
    "\n",
    "Here is the following variables:\n",
    "\n",
    "* Let $p_{ij}$ be the continuous variable that suggests payment of agent $i$ for room $j$\n",
    "* Let $R$ be the continuous variable that stands for the minimum of agents' utilities"
   ]
  },
  {
   "cell_type": "code",
   "execution_count": 49,
   "metadata": {},
   "outputs": [],
   "source": [
    "# variables\n",
    "model = Model()\n",
    "R = model.addVar(\n",
    "    vtype=GRB.CONTINUOUS, \n",
    "    name=\"R\"\n",
    ")\n",
    "p = {}\n",
    "for i in n:\n",
    "    for j in n:\n",
    "        p[str([i, j])] = model.addVar(\n",
    "            vtype=GRB.CONTINUOUS, \n",
    "            name=str([i, j])\n",
    "        )\n",
    "\n",
    "model.update()"
   ]
  },
  {
   "cell_type": "markdown",
   "metadata": {},
   "source": [
    "### Objective\n",
    "\n",
    "We want to maximize the minimum of agents' utility\n",
    "\n",
    "$$\\max R$$"
   ]
  },
  {
   "cell_type": "code",
   "execution_count": 50,
   "metadata": {},
   "outputs": [],
   "source": [
    "model.setObjective(\n",
    "    R,\n",
    "    GRB.MAXIMIZE\n",
    ")"
   ]
  },
  {
   "cell_type": "markdown",
   "metadata": {},
   "source": [
    "### Constraints\n",
    "\n",
    "* $\\sum p_{ij} = rent, \\forall i,j$ (Agent's payments sum up to rent)\n",
    "* $R \\leq v_{i\\sigma_i} - p_{i\\sigma_i}, i \\in N$ (R is smaller each agent's utility)\n",
    "* $p_{ij} = 0, j \\in N - \\{\\sigma_i\\}$ (If agent $i$ is assigned to room $j$, she cannot pay for any other room)\n",
    "* $p_{ij} \\geq 0, \\forall i,j$ (Non-negative payments)\n",
    "* $v_{i\\sigma_i} - p_{i\\sigma_i} \\geq v_{ij} - p_{j}, i \\in N, j \\in N$ (Agent's utility for the selected room is at least as high as the utility for any other room)"
   ]
  },
  {
   "cell_type": "code",
   "execution_count": 52,
   "metadata": {},
   "outputs": [
    {
     "name": "stdout",
     "output_type": "stream",
     "text": [
      "Optimize a model with 28 rows, 10 columns and 60 nonzeros\n",
      "Coefficient statistics:\n",
      "  Matrix range     [1e+00, 1e+00]\n",
      "  Objective range  [1e+00, 1e+00]\n",
      "  Bounds range     [0e+00, 0e+00]\n",
      "  RHS range        [3e+00, 3e+00]\n",
      "Presolve removed 21 rows and 6 columns\n",
      "Presolve time: 0.28s\n",
      "Presolved: 7 rows, 7 columns, 18 nonzeros\n",
      "\n",
      "Iteration    Objective       Primal Inf.    Dual Inf.      Time\n",
      "       0    3.0000000e+00   3.000000e+00   0.000000e+00      0s\n",
      "       4    2.0000000e+00   0.000000e+00   0.000000e+00      0s\n",
      "\n",
      "Solved in 4 iterations and 0.28 seconds\n",
      "Optimal objective  2.000000000e+00\n",
      "\n",
      "*****Thus the objective value is 2.0\n"
     ]
    }
   ],
   "source": [
    "# c1: payment must add up to rent\n",
    "model.addConstr(\n",
    "    quicksum(p[str([i, j])] for i in n for j in n) == rent\n",
    ")\n",
    "for i in n:\n",
    "    # c2: R is smaller each agent's utility\n",
    "    model.addConstr(\n",
    "        R <= (v[i,sigma[i]] - p[str([i, sigma[i]])])\n",
    "    )\n",
    "    # c3: (If agent $i$ is assigned to room $j$, she cannot pay for any other room)\n",
    "    room_not_assigned = [j for j in n if j !=sigma[i]]\n",
    "    for j in room_not_assigned:\n",
    "        model.addConstr(\n",
    "            p[str([i, j])] == 0\n",
    "        )\n",
    "    for j in n:\n",
    "        # c4: all payments are nonnegative\n",
    "        model.addConstr(\n",
    "            p[str([i, j])] >= 0\n",
    "        )\n",
    "        # c5: non-envy\n",
    "        model.addConstr(\n",
    "            (v[i,sigma[i]] - p[str([i, sigma[i]])]) >= (v[i,j] - quicksum(p[str([l, j])] for l in n))\n",
    "        )\n",
    "\n",
    "model.update()\n",
    "model.optimize()\n",
    "print()\n",
    "print(\"*****Thus the objective value is \" + str(model.ObjVal))"
   ]
  },
  {
   "cell_type": "code",
   "execution_count": 53,
   "metadata": {},
   "outputs": [
    {
     "data": {
      "text/plain": [
       "{'[0, 0]': <gurobi.Var [0, 0] (value 1.0)>,\n",
       " '[0, 1]': <gurobi.Var [0, 1] (value 0.0)>,\n",
       " '[0, 2]': <gurobi.Var [0, 2] (value 0.0)>,\n",
       " '[1, 0]': <gurobi.Var [1, 0] (value 0.0)>,\n",
       " '[1, 1]': <gurobi.Var [1, 1] (value 1.0)>,\n",
       " '[1, 2]': <gurobi.Var [1, 2] (value 0.0)>,\n",
       " '[2, 0]': <gurobi.Var [2, 0] (value 0.0)>,\n",
       " '[2, 1]': <gurobi.Var [2, 1] (value 0.0)>,\n",
       " '[2, 2]': <gurobi.Var [2, 2] (value 1.0)>}"
      ]
     },
     "execution_count": 53,
     "metadata": {},
     "output_type": "execute_result"
    }
   ],
   "source": [
    "p"
   ]
  },
  {
   "cell_type": "markdown",
   "metadata": {},
   "source": [
    "## Complete standalone script"
   ]
  },
  {
   "cell_type": "code",
   "execution_count": 59,
   "metadata": {},
   "outputs": [
    {
     "name": "stdout",
     "output_type": "stream",
     "text": [
      "The agents' values are \n",
      " [[3 0 0]\n",
      " [0 3 0]\n",
      " [0 0 3]]\n",
      "*****The maximum social welfare is 9.0\n",
      "agent 0 is assigned room 0\n",
      "agent 1 is assigned room 1\n",
      "agent 2 is assigned room 2\n",
      "*****The minimum of agents' utility is 2.0\n",
      "agent 0 will pay 1.0 for room 0\n",
      "agent 1 will pay 1.0 for room 1\n",
      "agent 2 will pay 1.0 for room 2\n",
      "======================================\n",
      "======================================\n",
      "======================================\n",
      "======================================\n",
      "The agents' values are \n",
      " [[446 348 206]\n",
      " [151 688 161]\n",
      " [750 245   5]]\n",
      "*****The maximum social welfare is 1644.0\n",
      "agent 0 is assigned room 2\n",
      "agent 1 is assigned room 1\n",
      "agent 2 is assigned room 0\n",
      "*****The minimum of agents' utility is 206.0\n",
      "agent 1 will pay 482.0 for room 1\n",
      "agent 2 will pay 518.0 for room 0\n"
     ]
    }
   ],
   "source": [
    "from gurobipy import Model, GRB, quicksum\n",
    "import numpy as np\n",
    "\n",
    "def rent_division(v):\n",
    "    model = Model()\n",
    "    model.setParam('OutputFlag', False)\n",
    "\n",
    "    # ===========================================================\n",
    "    # Get the allocation first\n",
    "    # ===========================================================\n",
    "\n",
    "    print(\"The agents' values are \\n\", v)\n",
    "    rent = v[0].sum()\n",
    "\n",
    "    # **Variables**\n",
    "    n = range(3)\n",
    "    x = {}\n",
    "    for i in n:\n",
    "        for j in n:\n",
    "            x[str([i, j])] = model.addVar(\n",
    "                vtype=GRB.BINARY, \n",
    "                name=str([i, j])\n",
    "            )\n",
    "    model.update()\n",
    "\n",
    "    # **Objective**\n",
    "    welfare = []\n",
    "    for i in n:\n",
    "        for j in n:\n",
    "            welfare += [x[str([i, j])] * v[i,j]]\n",
    "    model.setObjective(\n",
    "        quicksum(welfare),\n",
    "        GRB.MAXIMIZE\n",
    "    )\n",
    "\n",
    "    # **Constraints**\n",
    "    for i in n:\n",
    "        # c1: each agent must be assigned exactly one room\n",
    "        model.addConstr(\n",
    "            quicksum(x[str([i, j])] for j in n) == 1\n",
    "        )\n",
    "    for j in n:\n",
    "        # c2: each room can only be assigned once\n",
    "        model.addConstr(\n",
    "            quicksum(x[str([i, j])] for i in n) == 1\n",
    "        )\n",
    "    model.update()\n",
    "    model.optimize()\n",
    "    print(\"*****The maximum social welfare is \" + str(model.ObjVal))\n",
    "\n",
    "\n",
    "    # Room assignment\n",
    "    sigma = {}\n",
    "    for i in n:\n",
    "        for j in n:\n",
    "            if x[str([i, j])].X != 0:\n",
    "                sigma[i] = j\n",
    "                print(f\"agent {i} is assigned room {j}\")\n",
    "\n",
    "    # ===========================================================\n",
    "    # Get the pricing\n",
    "    # ===========================================================\n",
    "\n",
    "    # **Variables**\n",
    "    model = Model()\n",
    "    model.setParam('OutputFlag', False)\n",
    "    R = model.addVar(\n",
    "        vtype=GRB.CONTINUOUS, \n",
    "        name=\"R\"\n",
    "    )\n",
    "    p = {}\n",
    "    for i in n:\n",
    "        for j in n:\n",
    "            p[str([i, j])] = model.addVar(\n",
    "                vtype=GRB.CONTINUOUS, \n",
    "                name=str([i, j])\n",
    "            )\n",
    "    model.update()\n",
    "\n",
    "    # **Objective**\n",
    "    model.setObjective(\n",
    "        R,\n",
    "        GRB.MAXIMIZE\n",
    "    )\n",
    "\n",
    "    # **Constraints**\n",
    "    # c1: payment must add up to rent\n",
    "    model.addConstr(\n",
    "        quicksum(p[str([i, j])] for i in n for j in n) == rent\n",
    "    )\n",
    "    for i in n:\n",
    "        # c2: R is smaller each agent's utility\n",
    "        model.addConstr(\n",
    "            R <= (v[i,sigma[i]] - p[str([i, sigma[i]])])\n",
    "        )\n",
    "        # c3: (If agent $i$ is assigned to room $j$, she cannot pay for any other room)\n",
    "        room_not_assigned = [j for j in n if j !=sigma[i]]\n",
    "        for j in room_not_assigned:\n",
    "            model.addConstr(\n",
    "                p[str([i, j])] == 0\n",
    "            )\n",
    "        for j in n:\n",
    "            # c4: all payments are nonnegative\n",
    "            model.addConstr(\n",
    "                p[str([i, j])] >= 0\n",
    "            )\n",
    "            # c5: non-envy\n",
    "            model.addConstr(\n",
    "                (v[i,sigma[i]] - p[str([i, sigma[i]])]) >= (v[i,j] - quicksum(p[str([l, j])] for l in n))\n",
    "            )\n",
    "    model.update()\n",
    "    model.optimize()\n",
    "    print(\"*****The minimum of agents' utility is \" + str(model.ObjVal))\n",
    "\n",
    "    # price assignment\n",
    "    for i in n:\n",
    "        for j in n:\n",
    "            if p[str([i, j])].X != 0:\n",
    "                print(f\"agent {i} will pay {p[str([i, j])].X} for room {j}\")\n",
    "\n",
    "rent_division(np.array([\n",
    "    [3, 0, 0],\n",
    "    [0, 3, 0],\n",
    "    [0, 0, 3]\n",
    "]))\n",
    "print(\"======================================\")\n",
    "print(\"======================================\")\n",
    "print(\"======================================\")\n",
    "print(\"======================================\")\n",
    "rent_division(np.array([\n",
    "    [446, 348, 206],\n",
    "    [151, 688, 161],\n",
    "    [750, 245, 5]\n",
    "]))"
   ]
  }
 ],
 "metadata": {
  "kernelspec": {
   "display_name": "Python 3",
   "language": "python",
   "name": "python3"
  },
  "language_info": {
   "codemirror_mode": {
    "name": "ipython",
    "version": 3
   },
   "file_extension": ".py",
   "mimetype": "text/x-python",
   "name": "python",
   "nbconvert_exporter": "python",
   "pygments_lexer": "ipython3",
   "version": "3.7.3"
  }
 },
 "nbformat": 4,
 "nbformat_minor": 2
}
