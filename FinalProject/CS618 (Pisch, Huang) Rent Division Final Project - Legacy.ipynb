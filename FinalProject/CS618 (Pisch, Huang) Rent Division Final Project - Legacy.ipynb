{
 "cells": [
  {
   "cell_type": "markdown",
   "metadata": {},
   "source": [
    "# Rent Division\n",
    "\n",
    "In the paper [Which Is the Fairest (Rent Division) of Them All?\n",
    "](http://procaccia.info/papers/rent.pdf), it was suggested that the popular envy-free model is insufficient. Below we presnet an initial implmentation of the envy-free model."
   ]
  },
  {
   "cell_type": "markdown",
   "metadata": {},
   "source": [
    "## Variables\n",
    "\n",
    "* Let $x_{ij}$ be the binary variable that suggests assignment of agent $i$ for room $j$\n",
    "* Let $p_{ij}$ be the continuous variable that suggests payment of agent $i$ for room $j$\n",
    "\n",
    "Above are the varaibles we want to know at the end of model optimization. Furthermore, we have constant variables $v_{ij}$ that stands for the private evaluation of room $j$ for agent $i$."
   ]
  },
  {
   "cell_type": "code",
   "execution_count": 1,
   "metadata": {},
   "outputs": [
    {
     "name": "stdout",
     "output_type": "stream",
     "text": [
      "Academic license - for non-commercial use only\n",
      "{'[0, 0]': <gurobi.Var [0, 0]>, '[0, 1]': <gurobi.Var [0, 1]>, '[0, 2]': <gurobi.Var [0, 2]>, '[1, 0]': <gurobi.Var [1, 0]>, '[1, 1]': <gurobi.Var [1, 1]>, '[1, 2]': <gurobi.Var [1, 2]>, '[2, 0]': <gurobi.Var [2, 0]>, '[2, 1]': <gurobi.Var [2, 1]>, '[2, 2]': <gurobi.Var [2, 2]>}\n"
     ]
    }
   ],
   "source": [
    "from gurobipy import Model, GRB, quicksum\n",
    "import numpy as np\n",
    "\n",
    "# create a LP model\n",
    "model = Model()\n",
    "\n",
    "# input parameters\n",
    "num_agents = 3\n",
    "v = np.array([\n",
    "    [3, 0, 0],\n",
    "    [0, 3, 0],\n",
    "    [0, 0, 3]    \n",
    "])\n",
    "rent = v[0].sum()\n",
    "\n",
    "assert(len(v) == num_agents)\n",
    "\n",
    "# variables\n",
    "n = range(3)\n",
    "x = {}\n",
    "p = {}\n",
    "for i in n:\n",
    "    for j in n:\n",
    "        x[str([i, j])] = model.addVar(\n",
    "            vtype=GRB.BINARY, \n",
    "            name=str([i, j])\n",
    "        )\n",
    "        p[str([i, j])] = model.addVar(\n",
    "            vtype=GRB.CONTINUOUS, \n",
    "            name=str([i, j])\n",
    "        )\n",
    "\n",
    "model.update()\n",
    "\n",
    "print(x)"
   ]
  },
  {
   "cell_type": "markdown",
   "metadata": {},
   "source": [
    "## Objective\n",
    "\n",
    "We want to maximize the social welfare\n",
    "\n",
    "$$ \\max \\sum x_{ij} v_{ij}$$\n"
   ]
  },
  {
   "cell_type": "code",
   "execution_count": 2,
   "metadata": {},
   "outputs": [],
   "source": [
    "\n",
    "# objective\n",
    "welfare = []\n",
    "for i in n:\n",
    "    for j in n:\n",
    "        welfare += [x[str([i, j])] * v[i,j]]\n",
    "model.setObjective(\n",
    "    quicksum(welfare),\n",
    "    GRB.MAXIMIZE\n",
    ")\n"
   ]
  },
  {
   "cell_type": "markdown",
   "metadata": {},
   "source": [
    "## Constraints\n",
    "\n",
    "* $\\sum x_ij = 1, \\forall i$ (Each agent can be assigned exactly one room)\n",
    "* $\\sum p_ij = rent, \\forall i,j$ (Agent's payments sum up to rent)\n",
    "* $(v_{ij} - p_{ij}) x_{ij} \\geq (v_{ij'} - p_{ij'}) x_{ij}, j' \\in N-\\{j\\}, j \\in N, i \\in N$ (Agent's utility for the selected room is at least as high as the utility for any other room)"
   ]
  },
  {
   "cell_type": "code",
   "execution_count": 3,
   "metadata": {
    "scrolled": true
   },
   "outputs": [
    {
     "name": "stdout",
     "output_type": "stream",
     "text": [
      "Optimize a model with 13 rows, 18 columns and 27 nonzeros\n",
      "Model has 18 quadratic constraints\n",
      "Variable types: 9 continuous, 9 integer (9 binary)\n",
      "Coefficient statistics:\n",
      "  Matrix range     [1e+00, 1e+00]\n",
      "  QMatrix range    [1e+00, 1e+00]\n",
      "  QLMatrix range   [1e+00, 3e+00]\n",
      "  Objective range  [3e+00, 3e+00]\n",
      "  Bounds range     [1e+00, 1e+00]\n",
      "  RHS range        [1e+00, 3e+00]\n",
      "  QRHS range       [3e+00, 3e+00]\n",
      "Presolve removed 9 rows and 0 columns\n",
      "Presolve time: 0.00s\n",
      "\n",
      "Explored 0 nodes (0 simplex iterations) in 0.02 seconds\n",
      "Thread count was 1 (of 8 available processors)\n",
      "\n",
      "Solution count 0\n",
      "\n",
      "Model is infeasible\n",
      "Best objective -, best bound -, gap -\n",
      "\n"
     ]
    },
    {
     "ename": "AttributeError",
     "evalue": "b\"Unable to retrieve attribute 'ObjVal'\"",
     "output_type": "error",
     "traceback": [
      "\u001b[1;31m---------------------------------------------------------------------------\u001b[0m",
      "\u001b[1;31mAttributeError\u001b[0m                            Traceback (most recent call last)",
      "\u001b[1;32m<ipython-input-3-e0038e58e567>\u001b[0m in \u001b[0;36m<module>\u001b[1;34m\u001b[0m\n\u001b[0;32m     30\u001b[0m \u001b[0mmodel\u001b[0m\u001b[1;33m.\u001b[0m\u001b[0moptimize\u001b[0m\u001b[1;33m(\u001b[0m\u001b[1;33m)\u001b[0m\u001b[1;33m\u001b[0m\u001b[1;33m\u001b[0m\u001b[0m\n\u001b[0;32m     31\u001b[0m \u001b[0mprint\u001b[0m\u001b[1;33m(\u001b[0m\u001b[1;33m)\u001b[0m\u001b[1;33m\u001b[0m\u001b[1;33m\u001b[0m\u001b[0m\n\u001b[1;32m---> 32\u001b[1;33m \u001b[0mprint\u001b[0m\u001b[1;33m(\u001b[0m\u001b[1;34m\"*****Thus the objective value is \"\u001b[0m \u001b[1;33m+\u001b[0m \u001b[0mstr\u001b[0m\u001b[1;33m(\u001b[0m\u001b[0mmodel\u001b[0m\u001b[1;33m.\u001b[0m\u001b[0mObjVal\u001b[0m\u001b[1;33m)\u001b[0m\u001b[1;33m)\u001b[0m\u001b[1;33m\u001b[0m\u001b[1;33m\u001b[0m\u001b[0m\n\u001b[0m",
      "\u001b[1;32mmodel.pxi\u001b[0m in \u001b[0;36mgurobipy.Model.__getattr__\u001b[1;34m()\u001b[0m\n",
      "\u001b[1;32mmodel.pxi\u001b[0m in \u001b[0;36mgurobipy.Model.getAttr\u001b[1;34m()\u001b[0m\n",
      "\u001b[1;32mmodel.pxi\u001b[0m in \u001b[0;36mgurobipy.Model.__gettypedattr\u001b[1;34m()\u001b[0m\n",
      "\u001b[1;31mAttributeError\u001b[0m: b\"Unable to retrieve attribute 'ObjVal'\""
     ]
    }
   ],
   "source": [
    "# constraints\n",
    "c = {}\n",
    "# c1: payment must add up to rent\n",
    "c[\"rent\"]  = model.addConstr(\n",
    "    quicksum(p[str([i, j])] for i in n for j in n) == rent, \n",
    "    name=\"rent\"\n",
    ")\n",
    "for i in n:\n",
    "    # c2: each agent must be assigned exactly one room\n",
    "    c[str(['x', i, j, 1])] = model.addConstr(\n",
    "        quicksum(x[str([i, j])] for j in n) == 1, \n",
    "        name=str(['x', i, j, 1])\n",
    "    )\n",
    "\n",
    "    for j in n:\n",
    "        # c3: all payments are nonnegative\n",
    "        c[str(['p', i, j, 0])] = model.addConstr(\n",
    "            p[str([i, j])] >= 0, \n",
    "            name=str(['p', i, j, 0])\n",
    "        )\n",
    "\n",
    "        # c4: non-envy\n",
    "        non_j = [jp for jp in n if jp !=j] # every other room\n",
    "        for jp in non_j:\n",
    "            model.addConstr(\n",
    "                (v[i,j] - p[str([i, j])]) * x[str([i, j])] >= (v[i,jp] - p[str([i, jp])]) * x[str([i, j])], \n",
    "                name=str(['u', i, j, 'u_2', i, jp])\n",
    "            )\n",
    "model.update()\n",
    "model.optimize()\n",
    "print()\n",
    "print(\"*****Thus the objective value is \" + str(model.ObjVal))"
   ]
  },
  {
   "cell_type": "markdown",
   "metadata": {},
   "source": [
    "Now let's see the allocation"
   ]
  },
  {
   "cell_type": "code",
   "execution_count": null,
   "metadata": {},
   "outputs": [],
   "source": [
    "print(x)"
   ]
  },
  {
   "cell_type": "markdown",
   "metadata": {},
   "source": [
    "And the payment"
   ]
  },
  {
   "cell_type": "code",
   "execution_count": null,
   "metadata": {},
   "outputs": [],
   "source": [
    "print(p)"
   ]
  }
 ],
 "metadata": {
  "kernelspec": {
   "display_name": "Python 3",
   "language": "python",
   "name": "python3"
  },
  "language_info": {
   "codemirror_mode": {
    "name": "ipython",
    "version": 3
   },
   "file_extension": ".py",
   "mimetype": "text/x-python",
   "name": "python",
   "nbconvert_exporter": "python",
   "pygments_lexer": "ipython3",
   "version": "3.7.3"
  }
 },
 "nbformat": 4,
 "nbformat_minor": 2
}
